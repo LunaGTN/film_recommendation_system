{
 "cells": [
  {
   "cell_type": "code",
   "execution_count": null,
   "metadata": {},
   "outputs": [],
   "source": [
    "import pandas as pd\n",
    "import numpy as np"
   ]
  },
  {
   "cell_type": "markdown",
   "metadata": {},
   "source": [
    "## Ajout odnnées de tmdb"
   ]
  },
  {
   "cell_type": "markdown",
   "metadata": {},
   "source": [
    "Pour ajouter des données telles que la popularité, les pays de production, les affiches de films, nous avons du nous servir du tmdb.csv"
   ]
  },
  {
   "cell_type": "code",
   "execution_count": null,
   "metadata": {},
   "outputs": [],
   "source": [
    "df_tmbd = pd.read_csv(\"tmdb_full.csv\")"
   ]
  },
  {
   "cell_type": "code",
   "execution_count": null,
   "metadata": {},
   "outputs": [],
   "source": [
    "df_tmbd = df_tmbd.drop(columns = [\n",
    "    \"adult\",\n",
    "    \"backdrop_path\",\n",
    "    \"budget\",\n",
    "    \"genres\",\n",
    "    \"homepage\",\n",
    "    \"id\",\n",
    "    \"original_language\",\n",
    "    \"original_title\",\n",
    "    \"overview\",\n",
    "    \"release_date\",\n",
    "    \"revenue\",\n",
    "    \"runtime\",\n",
    "    \"spoken_languages\",\n",
    "    \"tagline\",\n",
    "    \"title\",\n",
    "    \"video\",\n",
    "    \"vote_average\",\n",
    "    \"vote_count\",\n",
    "    \"production_companies_name\",\n",
    "    \"production_companies_country\"])"
   ]
  },
  {
   "cell_type": "markdown",
   "metadata": {},
   "source": [
    "Merge nos nouvelles données avec le df_film "
   ]
  },
  {
   "cell_type": "code",
   "execution_count": null,
   "metadata": {},
   "outputs": [],
   "source": [
    "df_film = pd.read_csv(\"df_film.csv\")\n",
    "df_merge = df_film.merge(df_tmbd, left_on = \"id_film\", right_on = \"imdb_id\", how = \"left\")\n",
    "df_merge = df_merge.drop(columns = [\"Unnamed: 0.2\",\"Unnamed: 0.1\", \"Unnamed: 0\", \"tconst\"])"
   ]
  },
  {
   "cell_type": "markdown",
   "metadata": {},
   "source": [
    "## Créer des colonnes supplémentaires"
   ]
  },
  {
   "cell_type": "markdown",
   "metadata": {},
   "source": [
    "Créer la colonne décénie"
   ]
  },
  {
   "cell_type": "code",
   "execution_count": null,
   "metadata": {},
   "outputs": [],
   "source": [
    "df_film[\"decenie\"] = ((df_film['année'] // 10) * 10).astype(str)"
   ]
  },
  {
   "cell_type": "markdown",
   "metadata": {},
   "source": [
    "## Remplacer des valeurs manquantes"
   ]
  },
  {
   "cell_type": "markdown",
   "metadata": {},
   "source": [
    "Transformer les valeurs nulles en format compréhensible par python. Dans notre df actuellement les valeurs nulles sont des strings '\\\\N'"
   ]
  },
  {
   "cell_type": "code",
   "execution_count": null,
   "metadata": {},
   "outputs": [],
   "source": [
    "df_film = df_film.replace('\\\\N', np.nan)"
   ]
  },
  {
   "cell_type": "markdown",
   "metadata": {},
   "source": [
    "### Durée (temps_minutes)"
   ]
  },
  {
   "cell_type": "markdown",
   "metadata": {},
   "source": [
    "Ici, on veut remplacer les valeurs nulles par la moyenne des autres films de la même décénie"
   ]
  },
  {
   "cell_type": "markdown",
   "metadata": {},
   "source": [
    "Converti le temps (str) en int en contournant les valeurs nulles (fonctionne uniquement avec un type compris par python)"
   ]
  },
  {
   "cell_type": "code",
   "execution_count": null,
   "metadata": {},
   "outputs": [],
   "source": [
    "df_film['temps_minutes'] = df_film['temps_minutes'].astype('Int64')"
   ]
  },
  {
   "cell_type": "markdown",
   "metadata": {},
   "source": [
    "Cacul de la moyenne par décénie"
   ]
  },
  {
   "cell_type": "code",
   "execution_count": null,
   "metadata": {},
   "outputs": [],
   "source": [
    "moy_decenie = df_film.groupby(\"decenie\")[\"temps_minutes\"].mean()"
   ]
  },
  {
   "cell_type": "markdown",
   "metadata": {},
   "source": [
    "fonction qui remplace les valeurs nulles par la moyenne de la décénie à laquelle il appartient"
   ]
  },
  {
   "cell_type": "code",
   "execution_count": null,
   "metadata": {},
   "outputs": [],
   "source": [
    "def replacena_mean(row):\n",
    "    if str(row[\"temps_minutes\"]) == \"<NA>\":\n",
    "        row[\"temps_minutes\"] = moy_decenie.loc[row[\"decenie\"]]\n",
    "    return row"
   ]
  },
  {
   "cell_type": "code",
   "execution_count": null,
   "metadata": {},
   "outputs": [],
   "source": [
    "# Appliquer cette fonction\n",
    "df_film = df_film.apply(replacena_mean, axis=1)"
   ]
  },
  {
   "cell_type": "markdown",
   "metadata": {},
   "source": [
    "### Années"
   ]
  },
  {
   "cell_type": "code",
   "execution_count": null,
   "metadata": {},
   "outputs": [],
   "source": [
    "# Création d'une liste de films qui ont pour année 0\n",
    "films_annee0 = df_film.loc[df_film[\"année\"] == 0, \"titre\"].tolist()"
   ]
  },
  {
   "cell_type": "code",
   "execution_count": null,
   "metadata": {},
   "outputs": [],
   "source": [
    "# Dictionnaire avec les années manquantes au DF\n",
    "films = {\n",
    "    \"Shubh Kaamna\": 1983,\n",
    "    \"You Don't Know Nicotine\": 2020,\n",
    "    \"Becoming Led Zeppelin\": 2021,\n",
    "    \"Concorde, le rêve supersonique\": 2020,\n",
    "    \"Luccas Neto em: Acampamento de Férias\": 2019,\n",
    "    \"Luccas Neto em: Acampamento de Férias 2\": 2020,\n",
    "    \"Prem Prakaran\": 2021,\n",
    "    \"El Arribo de Conrado Sierra\": 2012,\n",
    "    \"Cyborg Nemesis: The Dark Rift\" : 2014,\n",
    "    \"90° South\" : 1933,\n",
    "    \"Samhain\" : 2021,\n",
    "    \"Haunted Connecticut\" : 2009,\n",
    "}\n",
    "\n",
    "# Apply du dictionnaire pour remplacer les valeurs manquantes\n",
    "df_film[\"année\"] = df_film.apply(lambda row: films.get(row[\"titre\"], row[\"année\"]), axis=1)"
   ]
  },
  {
   "cell_type": "code",
   "execution_count": null,
   "metadata": {},
   "outputs": [],
   "source": [
    "# Supression des lignes restantes avec année non renseignée\n",
    "df_film= df_film[df_film[\"année\"] != 0]"
   ]
  }
 ],
 "metadata": {
  "language_info": {
   "name": "python"
  }
 },
 "nbformat": 4,
 "nbformat_minor": 2
}
