{
 "cells": [
  {
   "cell_type": "code",
   "execution_count": 1,
   "metadata": {},
   "outputs": [],
   "source": [
    "import pandas as pd\n",
    "import numpy as np"
   ]
  },
  {
   "cell_type": "code",
   "execution_count": 2,
   "metadata": {},
   "outputs": [],
   "source": [
    "df_film = pd.read_csv(\"df_film.csv\")"
   ]
  },
  {
   "cell_type": "markdown",
   "metadata": {},
   "source": [
    "## Ajout données de tmdb"
   ]
  },
  {
   "cell_type": "markdown",
   "metadata": {},
   "source": [
    "Pour ajouter des données telles que la popularité, les pays de production, les affiches de films, nous avons du nous servir du tmdb.csv"
   ]
  },
  {
   "cell_type": "code",
   "execution_count": null,
   "metadata": {},
   "outputs": [],
   "source": [
    "df_tmbd = pd.read_csv(\"tmdb_full.csv\")"
   ]
  },
  {
   "cell_type": "code",
   "execution_count": null,
   "metadata": {},
   "outputs": [],
   "source": [
    "df_tmbd = df_tmbd.drop(columns = [\n",
    "    \"adult\",\n",
    "    \"backdrop_path\",\n",
    "    \"budget\",\n",
    "    \"genres\",\n",
    "    \"homepage\",\n",
    "    \"id\",\n",
    "    \"original_language\",\n",
    "    \"original_title\",\n",
    "    \"overview\",\n",
    "    \"release_date\",\n",
    "    \"revenue\",\n",
    "    \"runtime\",\n",
    "    \"spoken_languages\",\n",
    "    \"tagline\",\n",
    "    \"title\",\n",
    "    \"video\",\n",
    "    \"vote_average\",\n",
    "    \"vote_count\",\n",
    "    \"production_companies_name\",\n",
    "    \"production_companies_country\"])"
   ]
  },
  {
   "cell_type": "markdown",
   "metadata": {},
   "source": [
    "Merge nos nouvelles données avec le df_film "
   ]
  },
  {
   "cell_type": "code",
   "execution_count": null,
   "metadata": {},
   "outputs": [],
   "source": [
    "df_film = pd.read_csv(\"df_film.csv\")\n",
    "df_merge = df_film.merge(df_tmbd, left_on = \"id_film\", right_on = \"imdb_id\", how = \"left\")\n",
    "df_merge = df_merge.drop(columns = [\"Unnamed: 0.2\",\"Unnamed: 0.1\", \"Unnamed: 0\", \"tconst\"])"
   ]
  },
  {
   "cell_type": "markdown",
   "metadata": {},
   "source": [
    "## Créer des colonnes supplémentaires"
   ]
  },
  {
   "cell_type": "markdown",
   "metadata": {},
   "source": [
    "Créer la colonne décénie"
   ]
  },
  {
   "cell_type": "code",
   "execution_count": 3,
   "metadata": {},
   "outputs": [],
   "source": [
    "df_film[\"decenie\"] = ((df_film['année'] // 10) * 10).astype(str)"
   ]
  },
  {
   "cell_type": "markdown",
   "metadata": {},
   "source": [
    "## Remplacer des valeurs manquantes"
   ]
  },
  {
   "cell_type": "markdown",
   "metadata": {},
   "source": [
    "Transformer les valeurs nulles en format compréhensible par python. Dans notre df actuellement les valeurs nulles sont des strings '\\\\N'"
   ]
  },
  {
   "cell_type": "code",
   "execution_count": 4,
   "metadata": {},
   "outputs": [],
   "source": [
    "df_film = df_film.replace('\\\\N', np.nan)"
   ]
  },
  {
   "cell_type": "markdown",
   "metadata": {},
   "source": [
    "### Durée (temps_minutes)"
   ]
  },
  {
   "cell_type": "markdown",
   "metadata": {},
   "source": [
    "Ici, on veut remplacer les valeurs nulles par la moyenne des autres films de la même décénie"
   ]
  },
  {
   "cell_type": "markdown",
   "metadata": {},
   "source": [
    "Converti le temps (str) en int en contournant les valeurs nulles (fonctionne uniquement avec un type compris par python)"
   ]
  },
  {
   "cell_type": "code",
   "execution_count": 20,
   "metadata": {},
   "outputs": [],
   "source": [
    "df_film['temps_minutes'] = df_film['temps_minutes'].astype('Int64')"
   ]
  },
  {
   "cell_type": "markdown",
   "metadata": {},
   "source": [
    "Cacul de la moyenne par décénie"
   ]
  },
  {
   "cell_type": "code",
   "execution_count": 21,
   "metadata": {},
   "outputs": [],
   "source": [
    "moy_decenie = df_film.groupby(\"decenie\")[\"temps_minutes\"].mean()"
   ]
  },
  {
   "cell_type": "markdown",
   "metadata": {},
   "source": [
    "fonction qui remplace les valeurs nulles par la moyenne de la décénie à laquelle il appartient"
   ]
  },
  {
   "cell_type": "code",
   "execution_count": 22,
   "metadata": {},
   "outputs": [],
   "source": [
    "def replacena_mean(row):\n",
    "    if str(row[\"temps_minutes\"]) == \"<NA>\":\n",
    "        row[\"temps_minutes\"] = moy_decenie.loc[row[\"decenie\"]]\n",
    "    return row"
   ]
  },
  {
   "cell_type": "code",
   "execution_count": 23,
   "metadata": {},
   "outputs": [],
   "source": [
    "# Appliquer cette fonction\n",
    "df_film = df_film.apply(replacena_mean, axis=1)"
   ]
  },
  {
   "cell_type": "code",
   "execution_count": 24,
   "metadata": {},
   "outputs": [],
   "source": [
    "df_film.to_csv(\"df_film.csv\")"
   ]
  },
  {
   "cell_type": "markdown",
   "metadata": {},
   "source": [
    "### Années"
   ]
  },
  {
   "cell_type": "code",
   "execution_count": null,
   "metadata": {},
   "outputs": [],
   "source": [
    "# Création d'une liste de films qui ont pour année 0\n",
    "films_annee0 = df_film.loc[df_film[\"année\"] == 0, \"titre\"].tolist()"
   ]
  },
  {
   "cell_type": "code",
   "execution_count": null,
   "metadata": {},
   "outputs": [],
   "source": [
    "# Dictionnaire avec les années manquantes au DF\n",
    "films = {\n",
    "    \"Shubh Kaamna\": 1983,\n",
    "    \"You Don't Know Nicotine\": 2020,\n",
    "    \"Becoming Led Zeppelin\": 2021,\n",
    "    \"Concorde, le rêve supersonique\": 2020,\n",
    "    \"Luccas Neto em: Acampamento de Férias\": 2019,\n",
    "    \"Luccas Neto em: Acampamento de Férias 2\": 2020,\n",
    "    \"Prem Prakaran\": 2021,\n",
    "    \"El Arribo de Conrado Sierra\": 2012,\n",
    "    \"Cyborg Nemesis: The Dark Rift\" : 2014,\n",
    "    \"90° South\" : 1933,\n",
    "    \"Samhain\" : 2021,\n",
    "    \"Haunted Connecticut\" : 2009,\n",
    "}\n",
    "\n",
    "# Apply du dictionnaire pour remplacer les valeurs manquantes\n",
    "df_film[\"année\"] = df_film.apply(lambda row: films.get(row[\"titre\"], row[\"année\"]), axis=1)"
   ]
  },
  {
   "cell_type": "code",
   "execution_count": null,
   "metadata": {},
   "outputs": [],
   "source": [
    "# Supression des lignes restantes avec année non renseignée\n",
    "df_film= df_film[df_film[\"année\"] != 0]"
   ]
  },
  {
   "cell_type": "markdown",
   "metadata": {},
   "source": [
    "## Genre les + vus par décénie"
   ]
  },
  {
   "cell_type": "markdown",
   "metadata": {},
   "source": [
    "La colonne genre contient une string avec plusieurs genres différents. Je veux dans un premier temps transformer ces chaînes de caractères en listes."
   ]
  },
  {
   "cell_type": "markdown",
   "metadata": {},
   "source": [
    "Pour éviter les bugs avec split, je remplace les valeurs manquantes par des liste vides."
   ]
  },
  {
   "cell_type": "code",
   "execution_count": 5,
   "metadata": {},
   "outputs": [],
   "source": [
    "df_film['genre'] = df_film['genre'].fillna(\"\")"
   ]
  },
  {
   "cell_type": "markdown",
   "metadata": {},
   "source": [
    "Je créé donc une fonction qui va prendre la chaîne de caractère en paramètre et renvoyer la liste pour chaque ligne"
   ]
  },
  {
   "cell_type": "code",
   "execution_count": 6,
   "metadata": {},
   "outputs": [],
   "source": [
    "def transfo_liste(chaine:str)-> list:\n",
    "    liste_genres = []\n",
    "    for genre in chaine.split(\",\"):\n",
    "        liste_genres.append(genre.strip())\n",
    "    return liste_genres\n"
   ]
  },
  {
   "cell_type": "markdown",
   "metadata": {},
   "source": [
    "Je l'applique sur la colonne que je veux. Ici, je transforme la colonne genre (initialement des strings) en une nouvelle colonne genre qui contient maintenant des listes de genre."
   ]
  },
  {
   "cell_type": "code",
   "execution_count": 7,
   "metadata": {},
   "outputs": [],
   "source": [
    "df_film['genre'] = df_film['genre'].apply(transfo_liste)"
   ]
  },
  {
   "cell_type": "markdown",
   "metadata": {},
   "source": [
    "Maintenant, je voudrais compter les nombres de films de chaque genres par décénie. Pour ça je veux faire un dictionnaire qui à en clé la décénie, et en valeur, les nombres de films par genre [pour cette même décénie donc]."
   ]
  },
  {
   "cell_type": "code",
   "execution_count": 8,
   "metadata": {},
   "outputs": [],
   "source": [
    "resultats_par_decennie = {}\n",
    "\n",
    "for decenie in df_film[\"decenie\"].unique():\n",
    "    df_dec = df_film.loc[df_film[\"decenie\"] == decenie, ['genre', 'decenie']].explode(\"genre\")\n",
    "    nb_genres = df_dec.groupby('genre')[\"genre\"].count()\n",
    "    resultats_par_decennie[decenie] = nb_genres"
   ]
  },
  {
   "cell_type": "markdown",
   "metadata": {},
   "source": [
    "Je voudrais transformer ce dictionnaire en dataframe pour ensuite faire des visualisation graphiques"
   ]
  },
  {
   "cell_type": "code",
   "execution_count": 9,
   "metadata": {},
   "outputs": [],
   "source": [
    "df_genre_decenie = pd.DataFrame(resultats_par_decennie).fillna(0)"
   ]
  },
  {
   "cell_type": "markdown",
   "metadata": {},
   "source": [
    "### Objectif: heatmap"
   ]
  },
  {
   "cell_type": "markdown",
   "metadata": {},
   "source": [
    "L'objectif est de réaliser une heatmap (dans la partie analyse). Une heatmap qui prend en axe horizontal la décénie et en axe vertical les 10 genres les plus populaires. La couleur ne doit pas représenter le nombre de films brut mais plutôt le ratio que chaque genre représente par décénie. "
   ]
  },
  {
   "cell_type": "markdown",
   "metadata": {},
   "source": [
    "1) On commence à travailler sur tout les genres (pas le top 10 pour l'instant)"
   ]
  },
  {
   "cell_type": "markdown",
   "metadata": {},
   "source": [
    "Pour calculer le ration il faut faire = case / somme_colonne, on prendra les cases du dataframe top 10 qu'on divisera par la somme par colonne ce df plus global. On calcul donc la somme par colonne (par décénie)"
   ]
  },
  {
   "cell_type": "code",
   "execution_count": 10,
   "metadata": {},
   "outputs": [],
   "source": [
    "sum_par_dec = df_genre_decenie.sum(axis = 0) #calcul de la somme_colonne"
   ]
  },
  {
   "cell_type": "markdown",
   "metadata": {},
   "source": [
    "2. Pour le top 10, je fais une somme des genres que je trie par ordre croissant et desquels je ne garde que le top 10 (head10)"
   ]
  },
  {
   "cell_type": "code",
   "execution_count": 11,
   "metadata": {},
   "outputs": [],
   "source": [
    "df_genre_decenie[\"sum_genre\"] = df_genre_decenie.sum(axis = 1)\n",
    "df_top_genre = df_genre_decenie.sort_values(\"sum_genre\", ascending = False).head(10)"
   ]
  },
  {
   "cell_type": "markdown",
   "metadata": {},
   "source": [
    "Je supprimme ensuite la colonne sum_genre qui ne servait qu'à créer ce nouveau dataframe"
   ]
  },
  {
   "cell_type": "code",
   "execution_count": 12,
   "metadata": {},
   "outputs": [],
   "source": [
    "df_top_genre = df_top_genre.drop(columns = 'sum_genre')"
   ]
  },
  {
   "cell_type": "markdown",
   "metadata": {},
   "source": [
    "Maintenant je fais le ratio avec la somme par colonne du dataframe total (sans le filtre du top10)"
   ]
  },
  {
   "cell_type": "code",
   "execution_count": 14,
   "metadata": {},
   "outputs": [],
   "source": [
    "df_top_genre = df_top_genre / sum_par_dec"
   ]
  },
  {
   "cell_type": "code",
   "execution_count": 18,
   "metadata": {},
   "outputs": [],
   "source": [
    "df_top_genre.to_csv(\"df_top_genre.csv\")"
   ]
  }
 ],
 "metadata": {
  "kernelspec": {
   "display_name": "base",
   "language": "python",
   "name": "python3"
  },
  "language_info": {
   "codemirror_mode": {
    "name": "ipython",
    "version": 3
   },
   "file_extension": ".py",
   "mimetype": "text/x-python",
   "name": "python",
   "nbconvert_exporter": "python",
   "pygments_lexer": "ipython3",
   "version": "3.12.4"
  }
 },
 "nbformat": 4,
 "nbformat_minor": 2
}
